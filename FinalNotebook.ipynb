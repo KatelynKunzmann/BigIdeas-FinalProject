{
 "cells": [
  {
   "cell_type": "markdown",
   "metadata": {},
   "source": [
    "# Best Neighborhood for a Triathlon #\n",
    "### Katelyn Kunzmann, Samika Sanghvi, Henry Wilson\n",
    "\n",
    "Introduction: Introduce the project, your approach, talk about the process of how you came up with the metric and some alternatives you may have explored.\n",
    "\n",
    "\n",
    "The Metric: Describe your metric, what features are you measuring. What datasets are you using?\n",
    "\n",
    "\n",
    "The Best Neighborhood: Apply the metric from the previous section to determine the best neighborhood in Pittsburgh. Beyond just executing code, provide a narrative about why you think this is the best neighborhood. Incorporate a data visualization, perhaps to rank all of the neighborhoods or show a neighborhood’s best-ness over time. The key is to make a data driven argument.\n",
    "\n",
    "\n",
    "Conclusion: Reflect on how the data driven determination of “best neighborhood” is the same or different from your personal favorite neighborhood. Each member of the group should write their own response to this."
   ]
  },
  {
   "cell_type": "markdown",
   "metadata": {},
   "source": [
    "## Introduction ##\n",
    "After scrolling through all the different datasets on the WPRDC website, we each chose out which datasets stuck out the most to us. Then we brainstormed about a common attribute they all have in common. With the csvs from Toxic Release Inventory of Waterways, Sidewalk to Street Walkability Ratio of communities, and Bike Pavement Markings, we concluded on finding the best neighborhood for a triathlon. Other alternatives include safest neighborhood from natural disasters and safest neighborhood in general."
   ]
  },
  {
   "cell_type": "markdown",
   "metadata": {},
   "source": [
    "## Metric ##\n",
    "A triathlon consists of 3 parts: swimming, cycling, and running.\n",
    "\n",
    "For each part we are measuring the following:\n",
    "* Swimming - Cleanest waterways\n",
    "    * Dataset: https://data.wprdc.org/dataset/toxic-release-inventory\n",
    "* Cycling - Longest Bike Trails\n",
    "    * Dataset: https://data.wprdc.org/dataset/on-road-bicycle-pavement-markings\n",
    "* Running - Largest sidewalk to street ratio\n",
    "    * Dataset: https://data.wprdc.org/dataset/sidewalk-to-street-walkability-ratio"
   ]
  },
  {
   "cell_type": "markdown",
   "metadata": {},
   "source": [
    "## The Best Neighborhood for a Triathlon is... ##\n",
    "# Bedford Dwellings #\n",
    "\n",
    "We think this is the best neighborhood because it ranked number 1 for walkability, number 2 for bike lanes (sitting near Liberty Ave), and number 2 for safest river to swim in (near the Allegheny River)."
   ]
  },
  {
   "cell_type": "markdown",
   "metadata": {},
   "source": [
    "## Conclusion ##\n",
    "\n",
    "### Katelyn's reflection ###\n",
    "I did not expect Bedford Dwellings to be the neighborhood mostly cause I have only driven through there. I expected the Ohio River to not be the safest river, which was correct. I expected Squirrel Hill to be the best neighborhood for a triathlon, but the more I thought about it the more I realized how unsuitable it is for biking, swimming, and walking. I did not expect Oakland to come so close in second.\n"
    
    "\n",
    "### Henry's reflection ###\n",
    "My ultimate results for ideal neighborhoods had many landlocked areas take the lead, as they had no spills (because there was no river to spill into). For neighborhoods directly on the rivers, Oakland, the Central Business District topped the list. But, as far as the data for spills directly with the rivers went, as long as the neighborhood wasn't on the Ohio, it would be ideal, as the difference between spills for the Allegheny and Monongahela was negligible. Combine this with the fact that the Allegheny is seen by many Pittburgh swimming enthusiasts as the ideal recreational swimming area, any neighborhood on the Allegheny would work as a whole (re: Bedford Dwellings).\n",
    "\n",
    "### Samika's reflection ###\n",
    "For the biking part, Bedford Dwelling's was not top choice however, it does make sense with respect to the other parts of the triathlon. I expected Oakland to be the best neighbourhood but on further reflection, because of the population and city parts, it does not sound like the best idea. Other than that, I was not surprised with the rest of the results."
   ]
  },
  {
   "cell_type": "markdown",
   "metadata": {},
   "source": []
  }
 ],
 "metadata": {
  "kernelspec": {
   "display_name": "Python 3",
   "language": "python",
   "name": "python3"
  },
  "language_info": {
   "codemirror_mode": {
    "name": "ipython",
    "version": 3
   },
   "file_extension": ".py",
   "mimetype": "text/x-python",
   "name": "python",
   "nbconvert_exporter": "python",
   "pygments_lexer": "ipython3",
   "version": "3.8.3"
  }
 },
 "nbformat": 4,
 "nbformat_minor": 4
}
