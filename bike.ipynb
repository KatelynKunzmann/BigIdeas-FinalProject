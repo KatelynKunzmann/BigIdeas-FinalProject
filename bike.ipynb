{
 "cells": [
  {
   "cell_type": "code",
   "execution_count": 28,
   "metadata": {},
   "outputs": [
    {
     "name": "stdout",
     "output_type": "stream",
     "text": [
      "0     1.10\n",
      "1     2.15\n",
      "2     7.42\n",
      "4     1.20\n",
      "5     1.85\n",
      "7     0.54\n",
      "8     0.86\n",
      "11    0.72\n",
      "13    0.82\n",
      "26    3.00\n",
      "27    0.50\n",
      "28    2.80\n",
      "29    0.10\n",
      "30    0.50\n",
      "31    0.23\n",
      "36    1.00\n",
      "40    0.22\n",
      "50    0.40\n",
      "51    0.50\n",
      "52    1.80\n",
      "57    0.10\n",
      "58    0.10\n",
      "64    1.00\n",
      "Name: bikedistance, dtype: float64\n",
      "Street with longest bike trail/lane:  Beechwood Ave\n",
      "Top 10 streets with longest bike trails/lanes:  ['Wightman Ave', 'Riverview Dr', 'Resevoir Dr', 'Penn Ave', 'Liberty Ave', 'Greenfield Rd', 'East Liberty Blvd', 'Birmingham Bridge', 'Beechwood Ave', 'Beacon Ave']\n"
     ]
    },
    {
     "data": {
      "image/png": "[encoded data removed]",
      "text/plain": [
       "<Figure size 432x288 with 1 Axes>"
      ]
     },
     "metadata": {
      "needs_background": "light"
     },
     "output_type": "display_data"
    }
   ],
   "source": [
    "import pandas as pd\n",
    "import numpy as np\n",
    "%matplotlib inline\n",
    "import matplotlib.pyplot as plt\n",
    "\n",
    "b = pd.read_csv(\"biking.csv\")\n",
    "\n",
    "b_mask = b.query('Type == \"Bike Lane\"').copy() #apply mask\n",
    "biketrails = {}\n",
    "toptrails = {}\n",
    "top10streetslist = []\n",
    "top10 = {}\n",
    "# print(b_mask)\n",
    "\n",
    "\n",
    "# trails = biking['Street'].value_counts().rename_axis(\"trail\").to_frame(name='bikedistance')\n",
    "# print(trails)\n",
    "s = b_mask.bikedistance.apply(pd.to_numeric)\n",
    "s = s.dropna()\n",
    "print(s)\n",
    "\n",
    "\n",
    "for i, row in b.iterrows():\n",
    "    streetname = b['Street'].loc[b.index[i]]\n",
    "    bikedist = b['bikedistance'].loc[b.index[i]]\n",
    "    biketrails.update({streetname : bikedist})\n",
    "    \n",
    "\n",
    "top10 = dict(sorted(biketrails.items(), key= lambda kv: kv[1], reverse=True))\n",
    "\n",
    "# toptrails = dict(sorted(biketrails, key= lambda kv: kv[1], reverse=True))\n",
    "top10trails = dict(list(top10.items())[0: 10])\n",
    "# top10 = dict(sorted(top10trails.items(),key= lambda kv: kv[1], reverse=True))\n",
    "# print(top10)\n",
    "# m = s.max()\n",
    "\n",
    "topstreet = b['Street'].loc[b.index[2]]\n",
    "print(\"Street with longest bike trail/lane: \", topstreet)\n",
    "\n",
    "# Printing top 10 streets\n",
    "for idx, row in b.iterrows():\n",
    "    top10streets = b['Street'].loc[b.index[idx]]\n",
    "    top10streetslist.append(top10streets)\n",
    "    if idx == 9:\n",
    "        break;\n",
    "top10streetslist.sort(reverse=True)\n",
    "print(\"Top 10 streets with longest bike trails/lanes: \", top10streetslist)\n",
    "\n",
    "\n",
    "# Plot dictionary\n",
    "def plotDict(dict_name):\n",
    "    myList = dict_name.items()\n",
    "#     print(myList)\n",
    "    x, y = zip(*myList)\n",
    "    plt.plot(x, y)\n",
    "    plt.xlabel('Street')\n",
    "    plt.ylabel('Bike Lane Distance')\n",
    "    plt.title('Bike Lane Distance ratio of Pittsburgh Streets')\n",
    "    plt.xticks(rotation=90)\n",
    "    plt.show()\n",
    "    \n",
    "plotDict(top10trails)"
   ]
  },
  {
   "cell_type": "code",
   "execution_count": null,
   "metadata": {},
   "outputs": [],
   "source": []
  },
  {
   "cell_type": "code",
   "execution_count": null,
   "metadata": {},
   "outputs": [],
   "source": []
  }
 ],
 "metadata": {
  "kernelspec": {
   "display_name": "Python 3",
   "language": "python",
   "name": "python3"
  },
  "language_info": {
   "codemirror_mode": {
    "name": "ipython",
    "version": 3
   },
   "file_extension": ".py",
   "mimetype": "text/x-python",
   "name": "python",
   "nbconvert_exporter": "python",
   "pygments_lexer": "ipython3",
   "version": "3.8.3"
  }
 },
 "nbformat": 4,
 "nbformat_minor": 4
}
